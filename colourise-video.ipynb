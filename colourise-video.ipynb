{
 "cells": [
  {
   "cell_type": "code",
   "execution_count": 1,
   "id": "978ec39f",
   "metadata": {
    "_cell_guid": "baea5037-36c6-4e29-be8c-a1ea808679c1",
    "_uuid": "31a86a9e-9378-4765-aba5-1a2ce18c7759",
    "collapsed": false,
    "execution": {
     "iopub.execute_input": "2025-04-04T16:14:54.494974Z",
     "iopub.status.busy": "2025-04-04T16:14:54.494653Z",
     "iopub.status.idle": "2025-04-04T16:15:20.112331Z",
     "shell.execute_reply": "2025-04-04T16:15:20.111416Z"
    },
    "jupyter": {
     "outputs_hidden": false
    },
    "papermill": {
     "duration": 25.6226,
     "end_time": "2025-04-04T16:15:20.113973",
     "exception": false,
     "start_time": "2025-04-04T16:14:54.491373",
     "status": "completed"
    },
    "tags": []
   },
   "outputs": [
    {
     "name": "stdout",
     "output_type": "stream",
     "text": [
      "Collecting ffmpeg\r\n",
      "  Downloading ffmpeg-1.4.tar.gz (5.1 kB)\r\n",
      "  Preparing metadata (setup.py) ... \u001b[?25l\u001b[?25hdone\r\n",
      "Building wheels for collected packages: ffmpeg\r\n",
      "  Building wheel for ffmpeg (setup.py) ... \u001b[?25l\u001b[?25hdone\r\n",
      "  Created wheel for ffmpeg: filename=ffmpeg-1.4-py3-none-any.whl size=6082 sha256=6350fd4cb0c678d78524ed70b2b4f61b6d2f4ddbdf5351b23d85b4d4bb6e0f3b\r\n",
      "  Stored in directory: /root/.cache/pip/wheels/8e/7a/69/cd6aeb83b126a7f04cbe7c9d929028dc52a6e7d525ff56003a\r\n",
      "Successfully built ffmpeg\r\n",
      "Installing collected packages: ffmpeg\r\n",
      "Successfully installed ffmpeg-1.4\r\n",
      "Cloning into '/kaggle/working/DeOldify'...\r\n",
      "remote: Enumerating objects: 2620, done.\u001b[K\r\n",
      "remote: Counting objects: 100% (106/106), done.\u001b[K\r\n",
      "remote: Compressing objects: 100% (60/60), done.\u001b[K\r\n",
      "remote: Total 2620 (delta 64), reused 46 (delta 46), pack-reused 2514 (from 3)\u001b[K\r\n",
      "Receiving objects: 100% (2620/2620), 69.73 MiB | 38.64 MiB/s, done.\r\n",
      "Resolving deltas: 100% (1174/1174), done.\r\n",
      "/kaggle/working/DeOldify\n",
      "Collecting fastai==1.0.60 (from -r requirements-colab.txt (line 1))\r\n",
      "  Downloading fastai-1.0.60-py3-none-any.whl.metadata (14 kB)\r\n",
      "Collecting tensorboardX>=1.6 (from -r requirements-colab.txt (line 2))\r\n",
      "  Downloading tensorboardX-2.6.2.2-py2.py3-none-any.whl.metadata (5.8 kB)\r\n",
      "Collecting ffmpeg-python (from -r requirements-colab.txt (line 3))\r\n",
      "  Downloading ffmpeg_python-0.2.0-py3-none-any.whl.metadata (1.7 kB)\r\n",
      "Collecting yt-dlp (from -r requirements-colab.txt (line 4))\r\n",
      "  Downloading yt_dlp-2025.3.31-py3-none-any.whl.metadata (172 kB)\r\n",
      "\u001b[2K     \u001b[90m━━━━━━━━━━━━━━━━━━━━━━━━━━━━━━━━━━━━━━━━\u001b[0m \u001b[32m172.2/172.2 kB\u001b[0m \u001b[31m5.1 MB/s\u001b[0m eta \u001b[36m0:00:00\u001b[0m\r\n",
      "\u001b[?25hRequirement already satisfied: opencv-python>=4.2.0.32 in /usr/local/lib/python3.10/dist-packages (from -r requirements-colab.txt (line 5)) (4.10.0.84)\r\n",
      "Requirement already satisfied: Pillow in /usr/local/lib/python3.10/dist-packages (from -r requirements-colab.txt (line 6)) (11.0.0)\r\n",
      "Requirement already satisfied: tornado in /usr/local/lib/python3.10/dist-packages (from -r requirements-colab.txt (line 7)) (6.3.3)\r\n",
      "Collecting imgaug==0.2.6 (from -r requirements-colab.txt (line 8))\r\n",
      "  Downloading imgaug-0.2.6.tar.gz (631 kB)\r\n",
      "\u001b[2K     \u001b[90m━━━━━━━━━━━━━━━━━━━━━━━━━━━━━━━━━━━━━━━━\u001b[0m \u001b[32m631.4/631.4 kB\u001b[0m \u001b[31m23.7 MB/s\u001b[0m eta \u001b[36m0:00:00\u001b[0m\r\n",
      "\u001b[?25h  Preparing metadata (setup.py) ... \u001b[?25l\u001b[?25hdone\r\n",
      "Requirement already satisfied: bottleneck in /usr/local/lib/python3.10/dist-packages (from fastai==1.0.60->-r requirements-colab.txt (line 1)) (1.4.2)\r\n",
      "Requirement already satisfied: fastprogress>=0.2.1 in /usr/local/lib/python3.10/dist-packages (from fastai==1.0.60->-r requirements-colab.txt (line 1)) (1.0.3)\r\n",
      "Requirement already satisfied: beautifulsoup4 in /usr/local/lib/python3.10/dist-packages (from fastai==1.0.60->-r requirements-colab.txt (line 1)) (4.12.3)\r\n",
      "Requirement already satisfied: matplotlib in /usr/local/lib/python3.10/dist-packages (from fastai==1.0.60->-r requirements-colab.txt (line 1)) (3.7.5)\r\n",
      "Requirement already satisfied: numexpr in /usr/local/lib/python3.10/dist-packages (from fastai==1.0.60->-r requirements-colab.txt (line 1)) (2.10.2)\r\n",
      "Requirement already satisfied: numpy>=1.15 in /usr/local/lib/python3.10/dist-packages (from fastai==1.0.60->-r requirements-colab.txt (line 1)) (1.26.4)\r\n",
      "Collecting nvidia-ml-py3 (from fastai==1.0.60->-r requirements-colab.txt (line 1))\r\n",
      "  Downloading nvidia-ml-py3-7.352.0.tar.gz (19 kB)\r\n",
      "  Preparing metadata (setup.py) ... \u001b[?25l\u001b[?25hdone\r\n",
      "Requirement already satisfied: pandas in /usr/local/lib/python3.10/dist-packages (from fastai==1.0.60->-r requirements-colab.txt (line 1)) (2.2.3)\r\n",
      "Requirement already satisfied: packaging in /usr/local/lib/python3.10/dist-packages (from fastai==1.0.60->-r requirements-colab.txt (line 1)) (24.2)\r\n",
      "Requirement already satisfied: pyyaml in /usr/local/lib/python3.10/dist-packages (from fastai==1.0.60->-r requirements-colab.txt (line 1)) (6.0.2)\r\n",
      "Requirement already satisfied: requests in /usr/local/lib/python3.10/dist-packages (from fastai==1.0.60->-r requirements-colab.txt (line 1)) (2.32.3)\r\n",
      "Requirement already satisfied: scipy in /usr/local/lib/python3.10/dist-packages (from fastai==1.0.60->-r requirements-colab.txt (line 1)) (1.13.1)\r\n",
      "Requirement already satisfied: torch>=1.0.0 in /usr/local/lib/python3.10/dist-packages (from fastai==1.0.60->-r requirements-colab.txt (line 1)) (2.5.1+cu121)\r\n",
      "Requirement already satisfied: spacy>=2.0.18 in /usr/local/lib/python3.10/dist-packages (from fastai==1.0.60->-r requirements-colab.txt (line 1)) (3.7.5)\r\n",
      "Requirement already satisfied: torchvision in /usr/local/lib/python3.10/dist-packages (from fastai==1.0.60->-r requirements-colab.txt (line 1)) (0.20.1+cu121)\r\n",
      "Requirement already satisfied: scikit-image>=0.11.0 in /usr/local/lib/python3.10/dist-packages (from imgaug==0.2.6->-r requirements-colab.txt (line 8)) (0.25.0)\r\n",
      "Requirement already satisfied: six in /usr/local/lib/python3.10/dist-packages (from imgaug==0.2.6->-r requirements-colab.txt (line 8)) (1.17.0)\r\n",
      "Requirement already satisfied: protobuf>=3.20 in /usr/local/lib/python3.10/dist-packages (from tensorboardX>=1.6->-r requirements-colab.txt (line 2)) (3.20.3)\r\n",
      "Requirement already satisfied: future in /usr/local/lib/python3.10/dist-packages (from ffmpeg-python->-r requirements-colab.txt (line 3)) (1.0.0)\r\n",
      "Requirement already satisfied: mkl_fft in /usr/local/lib/python3.10/dist-packages (from numpy>=1.15->fastai==1.0.60->-r requirements-colab.txt (line 1)) (1.3.8)\r\n",
      "Requirement already satisfied: mkl_random in /usr/local/lib/python3.10/dist-packages (from numpy>=1.15->fastai==1.0.60->-r requirements-colab.txt (line 1)) (1.2.4)\r\n",
      "Requirement already satisfied: mkl_umath in /usr/local/lib/python3.10/dist-packages (from numpy>=1.15->fastai==1.0.60->-r requirements-colab.txt (line 1)) (0.1.1)\r\n",
      "Requirement already satisfied: mkl in /usr/local/lib/python3.10/dist-packages (from numpy>=1.15->fastai==1.0.60->-r requirements-colab.txt (line 1)) (2025.0.1)\r\n",
      "Requirement already satisfied: tbb4py in /usr/local/lib/python3.10/dist-packages (from numpy>=1.15->fastai==1.0.60->-r requirements-colab.txt (line 1)) (2022.0.0)\r\n",
      "Requirement already satisfied: mkl-service in /usr/local/lib/python3.10/dist-packages (from numpy>=1.15->fastai==1.0.60->-r requirements-colab.txt (line 1)) (2.4.1)\r\n",
      "Requirement already satisfied: networkx>=3.0 in /usr/local/lib/python3.10/dist-packages (from scikit-image>=0.11.0->imgaug==0.2.6->-r requirements-colab.txt (line 8)) (3.4.2)\r\n",
      "Requirement already satisfied: imageio!=2.35.0,>=2.33 in /usr/local/lib/python3.10/dist-packages (from scikit-image>=0.11.0->imgaug==0.2.6->-r requirements-colab.txt (line 8)) (2.36.1)\r\n",
      "Requirement already satisfied: tifffile>=2022.8.12 in /usr/local/lib/python3.10/dist-packages (from scikit-image>=0.11.0->imgaug==0.2.6->-r requirements-colab.txt (line 8)) (2024.12.12)\r\n",
      "Requirement already satisfied: lazy-loader>=0.4 in /usr/local/lib/python3.10/dist-packages (from scikit-image>=0.11.0->imgaug==0.2.6->-r requirements-colab.txt (line 8)) (0.4)\r\n",
      "Requirement already satisfied: spacy-legacy<3.1.0,>=3.0.11 in /usr/local/lib/python3.10/dist-packages (from spacy>=2.0.18->fastai==1.0.60->-r requirements-colab.txt (line 1)) (3.0.12)\r\n",
      "Requirement already satisfied: spacy-loggers<2.0.0,>=1.0.0 in /usr/local/lib/python3.10/dist-packages (from spacy>=2.0.18->fastai==1.0.60->-r requirements-colab.txt (line 1)) (1.0.5)\r\n",
      "Requirement already satisfied: murmurhash<1.1.0,>=0.28.0 in /usr/local/lib/python3.10/dist-packages (from spacy>=2.0.18->fastai==1.0.60->-r requirements-colab.txt (line 1)) (1.0.11)\r\n",
      "Requirement already satisfied: cymem<2.1.0,>=2.0.2 in /usr/local/lib/python3.10/dist-packages (from spacy>=2.0.18->fastai==1.0.60->-r requirements-colab.txt (line 1)) (2.0.10)\r\n",
      "Requirement already satisfied: preshed<3.1.0,>=3.0.2 in /usr/local/lib/python3.10/dist-packages (from spacy>=2.0.18->fastai==1.0.60->-r requirements-colab.txt (line 1)) (3.0.9)\r\n",
      "Requirement already satisfied: thinc<8.3.0,>=8.2.2 in /usr/local/lib/python3.10/dist-packages (from spacy>=2.0.18->fastai==1.0.60->-r requirements-colab.txt (line 1)) (8.2.5)\r\n",
      "Requirement already satisfied: wasabi<1.2.0,>=0.9.1 in /usr/local/lib/python3.10/dist-packages (from spacy>=2.0.18->fastai==1.0.60->-r requirements-colab.txt (line 1)) (1.1.3)\r\n",
      "Requirement already satisfied: srsly<3.0.0,>=2.4.3 in /usr/local/lib/python3.10/dist-packages (from spacy>=2.0.18->fastai==1.0.60->-r requirements-colab.txt (line 1)) (2.5.0)\r\n",
      "Requirement already satisfied: catalogue<2.1.0,>=2.0.6 in /usr/local/lib/python3.10/dist-packages (from spacy>=2.0.18->fastai==1.0.60->-r requirements-colab.txt (line 1)) (2.0.10)\r\n",
      "Requirement already satisfied: weasel<0.5.0,>=0.1.0 in /usr/local/lib/python3.10/dist-packages (from spacy>=2.0.18->fastai==1.0.60->-r requirements-colab.txt (line 1)) (0.4.1)\r\n",
      "Requirement already satisfied: typer<1.0.0,>=0.3.0 in /usr/local/lib/python3.10/dist-packages (from spacy>=2.0.18->fastai==1.0.60->-r requirements-colab.txt (line 1)) (0.15.1)\r\n",
      "Requirement already satisfied: tqdm<5.0.0,>=4.38.0 in /usr/local/lib/python3.10/dist-packages (from spacy>=2.0.18->fastai==1.0.60->-r requirements-colab.txt (line 1)) (4.67.1)\r\n",
      "Requirement already satisfied: pydantic!=1.8,!=1.8.1,<3.0.0,>=1.7.4 in /usr/local/lib/python3.10/dist-packages (from spacy>=2.0.18->fastai==1.0.60->-r requirements-colab.txt (line 1)) (2.11.0a2)\r\n",
      "Requirement already satisfied: jinja2 in /usr/local/lib/python3.10/dist-packages (from spacy>=2.0.18->fastai==1.0.60->-r requirements-colab.txt (line 1)) (3.1.4)\r\n",
      "Requirement already satisfied: setuptools in /usr/local/lib/python3.10/dist-packages (from spacy>=2.0.18->fastai==1.0.60->-r requirements-colab.txt (line 1)) (75.1.0)\r\n",
      "Requirement already satisfied: langcodes<4.0.0,>=3.2.0 in /usr/local/lib/python3.10/dist-packages (from spacy>=2.0.18->fastai==1.0.60->-r requirements-colab.txt (line 1)) (3.5.0)\r\n",
      "Requirement already satisfied: charset-normalizer<4,>=2 in /usr/local/lib/python3.10/dist-packages (from requests->fastai==1.0.60->-r requirements-colab.txt (line 1)) (3.4.1)\r\n",
      "Requirement already satisfied: idna<4,>=2.5 in /usr/local/lib/python3.10/dist-packages (from requests->fastai==1.0.60->-r requirements-colab.txt (line 1)) (3.10)\r\n",
      "Requirement already satisfied: urllib3<3,>=1.21.1 in /usr/local/lib/python3.10/dist-packages (from requests->fastai==1.0.60->-r requirements-colab.txt (line 1)) (2.3.0)\r\n",
      "Requirement already satisfied: certifi>=2017.4.17 in /usr/local/lib/python3.10/dist-packages (from requests->fastai==1.0.60->-r requirements-colab.txt (line 1)) (2025.1.31)\r\n",
      "Requirement already satisfied: filelock in /usr/local/lib/python3.10/dist-packages (from torch>=1.0.0->fastai==1.0.60->-r requirements-colab.txt (line 1)) (3.17.0)\r\n",
      "Requirement already satisfied: typing-extensions>=4.8.0 in /usr/local/lib/python3.10/dist-packages (from torch>=1.0.0->fastai==1.0.60->-r requirements-colab.txt (line 1)) (4.12.2)\r\n",
      "Requirement already satisfied: fsspec in /usr/local/lib/python3.10/dist-packages (from torch>=1.0.0->fastai==1.0.60->-r requirements-colab.txt (line 1)) (2024.12.0)\r\n",
      "Requirement already satisfied: sympy==1.13.1 in /usr/local/lib/python3.10/dist-packages (from torch>=1.0.0->fastai==1.0.60->-r requirements-colab.txt (line 1)) (1.13.1)\r\n",
      "Requirement already satisfied: mpmath<1.4,>=1.1.0 in /usr/local/lib/python3.10/dist-packages (from sympy==1.13.1->torch>=1.0.0->fastai==1.0.60->-r requirements-colab.txt (line 1)) (1.3.0)\r\n",
      "Requirement already satisfied: soupsieve>1.2 in /usr/local/lib/python3.10/dist-packages (from beautifulsoup4->fastai==1.0.60->-r requirements-colab.txt (line 1)) (2.6)\r\n",
      "Requirement already satisfied: contourpy>=1.0.1 in /usr/local/lib/python3.10/dist-packages (from matplotlib->fastai==1.0.60->-r requirements-colab.txt (line 1)) (1.3.1)\r\n",
      "Requirement already satisfied: cycler>=0.10 in /usr/local/lib/python3.10/dist-packages (from matplotlib->fastai==1.0.60->-r requirements-colab.txt (line 1)) (0.12.1)\r\n",
      "Requirement already satisfied: fonttools>=4.22.0 in /usr/local/lib/python3.10/dist-packages (from matplotlib->fastai==1.0.60->-r requirements-colab.txt (line 1)) (4.55.3)\r\n",
      "Requirement already satisfied: kiwisolver>=1.0.1 in /usr/local/lib/python3.10/dist-packages (from matplotlib->fastai==1.0.60->-r requirements-colab.txt (line 1)) (1.4.7)\r\n",
      "Requirement already satisfied: pyparsing>=2.3.1 in /usr/local/lib/python3.10/dist-packages (from matplotlib->fastai==1.0.60->-r requirements-colab.txt (line 1)) (3.2.0)\r\n",
      "Requirement already satisfied: python-dateutil>=2.7 in /usr/local/lib/python3.10/dist-packages (from matplotlib->fastai==1.0.60->-r requirements-colab.txt (line 1)) (2.9.0.post0)\r\n",
      "Requirement already satisfied: pytz>=2020.1 in /usr/local/lib/python3.10/dist-packages (from pandas->fastai==1.0.60->-r requirements-colab.txt (line 1)) (2025.1)\r\n",
      "Requirement already satisfied: tzdata>=2022.7 in /usr/local/lib/python3.10/dist-packages (from pandas->fastai==1.0.60->-r requirements-colab.txt (line 1)) (2025.1)\r\n",
      "Requirement already satisfied: language-data>=1.2 in /usr/local/lib/python3.10/dist-packages (from langcodes<4.0.0,>=3.2.0->spacy>=2.0.18->fastai==1.0.60->-r requirements-colab.txt (line 1)) (1.3.0)\r\n",
      "Requirement already satisfied: annotated-types>=0.6.0 in /usr/local/lib/python3.10/dist-packages (from pydantic!=1.8,!=1.8.1,<3.0.0,>=1.7.4->spacy>=2.0.18->fastai==1.0.60->-r requirements-colab.txt (line 1)) (0.7.0)\r\n",
      "Requirement already satisfied: pydantic-core==2.29.0 in /usr/local/lib/python3.10/dist-packages (from pydantic!=1.8,!=1.8.1,<3.0.0,>=1.7.4->spacy>=2.0.18->fastai==1.0.60->-r requirements-colab.txt (line 1)) (2.29.0)\r\n",
      "Requirement already satisfied: blis<0.8.0,>=0.7.8 in /usr/local/lib/python3.10/dist-packages (from thinc<8.3.0,>=8.2.2->spacy>=2.0.18->fastai==1.0.60->-r requirements-colab.txt (line 1)) (0.7.11)\r\n",
      "Requirement already satisfied: confection<1.0.0,>=0.0.1 in /usr/local/lib/python3.10/dist-packages (from thinc<8.3.0,>=8.2.2->spacy>=2.0.18->fastai==1.0.60->-r requirements-colab.txt (line 1)) (0.1.5)\r\n",
      "Requirement already satisfied: click>=8.0.0 in /usr/local/lib/python3.10/dist-packages (from typer<1.0.0,>=0.3.0->spacy>=2.0.18->fastai==1.0.60->-r requirements-colab.txt (line 1)) (8.1.7)\r\n",
      "Requirement already satisfied: shellingham>=1.3.0 in /usr/local/lib/python3.10/dist-packages (from typer<1.0.0,>=0.3.0->spacy>=2.0.18->fastai==1.0.60->-r requirements-colab.txt (line 1)) (1.5.4)\r\n",
      "Requirement already satisfied: rich>=10.11.0 in /usr/local/lib/python3.10/dist-packages (from typer<1.0.0,>=0.3.0->spacy>=2.0.18->fastai==1.0.60->-r requirements-colab.txt (line 1)) (13.9.4)\r\n",
      "Requirement already satisfied: cloudpathlib<1.0.0,>=0.7.0 in /usr/local/lib/python3.10/dist-packages (from weasel<0.5.0,>=0.1.0->spacy>=2.0.18->fastai==1.0.60->-r requirements-colab.txt (line 1)) (0.20.0)\r\n",
      "Requirement already satisfied: smart-open<8.0.0,>=5.2.1 in /usr/local/lib/python3.10/dist-packages (from weasel<0.5.0,>=0.1.0->spacy>=2.0.18->fastai==1.0.60->-r requirements-colab.txt (line 1)) (7.0.5)\r\n",
      "Requirement already satisfied: MarkupSafe>=2.0 in /usr/local/lib/python3.10/dist-packages (from jinja2->spacy>=2.0.18->fastai==1.0.60->-r requirements-colab.txt (line 1)) (3.0.2)\r\n",
      "Requirement already satisfied: intel-openmp>=2024 in /usr/local/lib/python3.10/dist-packages (from mkl->numpy>=1.15->fastai==1.0.60->-r requirements-colab.txt (line 1)) (2024.2.0)\r\n",
      "Requirement already satisfied: tbb==2022.* in /usr/local/lib/python3.10/dist-packages (from mkl->numpy>=1.15->fastai==1.0.60->-r requirements-colab.txt (line 1)) (2022.0.0)\r\n",
      "Requirement already satisfied: tcmlib==1.* in /usr/local/lib/python3.10/dist-packages (from tbb==2022.*->mkl->numpy>=1.15->fastai==1.0.60->-r requirements-colab.txt (line 1)) (1.2.0)\r\n",
      "Requirement already satisfied: intel-cmplr-lib-rt in /usr/local/lib/python3.10/dist-packages (from mkl_umath->numpy>=1.15->fastai==1.0.60->-r requirements-colab.txt (line 1)) (2024.2.0)\r\n",
      "Requirement already satisfied: intel-cmplr-lib-ur==2024.2.0 in /usr/local/lib/python3.10/dist-packages (from intel-openmp>=2024->mkl->numpy>=1.15->fastai==1.0.60->-r requirements-colab.txt (line 1)) (2024.2.0)\r\n",
      "Requirement already satisfied: marisa-trie>=1.1.0 in /usr/local/lib/python3.10/dist-packages (from language-data>=1.2->langcodes<4.0.0,>=3.2.0->spacy>=2.0.18->fastai==1.0.60->-r requirements-colab.txt (line 1)) (1.2.1)\r\n",
      "Requirement already satisfied: markdown-it-py>=2.2.0 in /usr/local/lib/python3.10/dist-packages (from rich>=10.11.0->typer<1.0.0,>=0.3.0->spacy>=2.0.18->fastai==1.0.60->-r requirements-colab.txt (line 1)) (3.0.0)\r\n",
      "Requirement already satisfied: pygments<3.0.0,>=2.13.0 in /usr/local/lib/python3.10/dist-packages (from rich>=10.11.0->typer<1.0.0,>=0.3.0->spacy>=2.0.18->fastai==1.0.60->-r requirements-colab.txt (line 1)) (2.19.1)\r\n",
      "Requirement already satisfied: wrapt in /usr/local/lib/python3.10/dist-packages (from smart-open<8.0.0,>=5.2.1->weasel<0.5.0,>=0.1.0->spacy>=2.0.18->fastai==1.0.60->-r requirements-colab.txt (line 1)) (1.17.0)\r\n",
      "Requirement already satisfied: mdurl~=0.1 in /usr/local/lib/python3.10/dist-packages (from markdown-it-py>=2.2.0->rich>=10.11.0->typer<1.0.0,>=0.3.0->spacy>=2.0.18->fastai==1.0.60->-r requirements-colab.txt (line 1)) (0.1.2)\r\n",
      "Downloading fastai-1.0.60-py3-none-any.whl (237 kB)\r\n",
      "\u001b[2K   \u001b[90m━━━━━━━━━━━━━━━━━━━━━━━━━━━━━━━━━━━━━━━━\u001b[0m \u001b[32m237.3/237.3 kB\u001b[0m \u001b[31m13.6 MB/s\u001b[0m eta \u001b[36m0:00:00\u001b[0m\r\n",
      "\u001b[?25hDownloading tensorboardX-2.6.2.2-py2.py3-none-any.whl (101 kB)\r\n",
      "\u001b[2K   \u001b[90m━━━━━━━━━━━━━━━━━━━━━━━━━━━━━━━━━━━━━━━━\u001b[0m \u001b[32m101.7/101.7 kB\u001b[0m \u001b[31m5.7 MB/s\u001b[0m eta \u001b[36m0:00:00\u001b[0m\r\n",
      "\u001b[?25hDownloading ffmpeg_python-0.2.0-py3-none-any.whl (25 kB)\r\n",
      "Downloading yt_dlp-2025.3.31-py3-none-any.whl (3.2 MB)\r\n",
      "\u001b[2K   \u001b[90m━━━━━━━━━━━━━━━━━━━━━━━━━━━━━━━━━━━━━━━━\u001b[0m \u001b[32m3.2/3.2 MB\u001b[0m \u001b[31m73.1 MB/s\u001b[0m eta \u001b[36m0:00:00\u001b[0m\r\n",
      "\u001b[?25hBuilding wheels for collected packages: imgaug, nvidia-ml-py3\r\n",
      "  Building wheel for imgaug (setup.py) ... \u001b[?25l\u001b[?25hdone\r\n",
      "  Created wheel for imgaug: filename=imgaug-0.2.6-py3-none-any.whl size=654004 sha256=8f1790d8c560fa04876560c596d6af68dc83646ccc5a6bb6446fba520b2352f1\r\n",
      "  Stored in directory: /root/.cache/pip/wheels/cb/c7/a6/2d7a113c4885dc0f4eacd8f41095763181c0b9a18223ac7533\r\n",
      "  Building wheel for nvidia-ml-py3 (setup.py) ... \u001b[?25l\u001b[?25hdone\r\n",
      "  Created wheel for nvidia-ml-py3: filename=nvidia_ml_py3-7.352.0-py3-none-any.whl size=19173 sha256=b1c8ce35d4bedc674fdebd01b53e4ea4e0ee82e6ed41d75f63f3bc9280c50c51\r\n",
      "  Stored in directory: /root/.cache/pip/wheels/5c/d8/c0/46899f8be7a75a2ffd197a23c8797700ea858b9b34819fbf9e\r\n",
      "Successfully built imgaug nvidia-ml-py3\r\n",
      "Installing collected packages: nvidia-ml-py3, yt-dlp, ffmpeg-python, tensorboardX, imgaug, fastai\r\n",
      "  Attempting uninstall: imgaug\r\n",
      "    Found existing installation: imgaug 0.4.0\r\n",
      "    Uninstalling imgaug-0.4.0:\r\n",
      "      Successfully uninstalled imgaug-0.4.0\r\n",
      "  Attempting uninstall: fastai\r\n",
      "    Found existing installation: fastai 2.7.18\r\n",
      "    Uninstalling fastai-2.7.18:\r\n",
      "      Successfully uninstalled fastai-2.7.18\r\n",
      "Successfully installed fastai-1.0.60 ffmpeg-python-0.2.0 imgaug-0.2.6 nvidia-ml-py3-7.352.0 tensorboardX-2.6.2.2 yt-dlp-2025.3.31\r\n",
      "Collecting deoldify\r\n",
      "  Downloading deoldify-0.0.1-py3-none-any.whl.metadata (28 kB)\r\n",
      "Requirement already satisfied: wandb in /usr/local/lib/python3.10/dist-packages (from deoldify) (0.19.1)\r\n",
      "Requirement already satisfied: tensorboardX>=1.6 in /usr/local/lib/python3.10/dist-packages (from deoldify) (2.6.2.2)\r\n",
      "Requirement already satisfied: ffmpeg in /usr/local/lib/python3.10/dist-packages (from deoldify) (1.4)\r\n",
      "Requirement already satisfied: ffmpeg-python in /usr/local/lib/python3.10/dist-packages (from deoldify) (0.2.0)\r\n",
      "Requirement already satisfied: yt-dlp in /usr/local/lib/python3.10/dist-packages (from deoldify) (2025.3.31)\r\n",
      "Requirement already satisfied: jupyterlab in /usr/local/lib/python3.10/dist-packages (from deoldify) (3.6.8)\r\n",
      "Requirement already satisfied: opencv-python>=4.2.0.32 in /usr/local/lib/python3.10/dist-packages (from deoldify) (4.10.0.84)\r\n",
      "Requirement already satisfied: Pillow>=9.5.0 in /usr/local/lib/python3.10/dist-packages (from deoldify) (11.0.0)\r\n",
      "Requirement already satisfied: torch>=2.0.0 in /usr/local/lib/python3.10/dist-packages (from deoldify) (2.5.1+cu121)\r\n",
      "Requirement already satisfied: torchvision in /usr/local/lib/python3.10/dist-packages (from deoldify) (0.20.1+cu121)\r\n",
      "Requirement already satisfied: ipywidgets in /usr/local/lib/python3.10/dist-packages (from deoldify) (8.1.5)\r\n",
      "Requirement already satisfied: numpy>=1.21.2 in /usr/local/lib/python3.10/dist-packages (from opencv-python>=4.2.0.32->deoldify) (1.26.4)\r\n",
      "Requirement already satisfied: packaging in /usr/local/lib/python3.10/dist-packages (from tensorboardX>=1.6->deoldify) (24.2)\r\n",
      "Requirement already satisfied: protobuf>=3.20 in /usr/local/lib/python3.10/dist-packages (from tensorboardX>=1.6->deoldify) (3.20.3)\r\n",
      "Requirement already satisfied: filelock in /usr/local/lib/python3.10/dist-packages (from torch>=2.0.0->deoldify) (3.17.0)\r\n",
      "Requirement already satisfied: typing-extensions>=4.8.0 in /usr/local/lib/python3.10/dist-packages (from torch>=2.0.0->deoldify) (4.12.2)\r\n",
      "Requirement already satisfied: networkx in /usr/local/lib/python3.10/dist-packages (from torch>=2.0.0->deoldify) (3.4.2)\r\n",
      "Requirement already satisfied: jinja2 in /usr/local/lib/python3.10/dist-packages (from torch>=2.0.0->deoldify) (3.1.4)\r\n",
      "Requirement already satisfied: fsspec in /usr/local/lib/python3.10/dist-packages (from torch>=2.0.0->deoldify) (2024.12.0)\r\n",
      "Requirement already satisfied: sympy==1.13.1 in /usr/local/lib/python3.10/dist-packages (from torch>=2.0.0->deoldify) (1.13.1)\r\n",
      "Requirement already satisfied: mpmath<1.4,>=1.1.0 in /usr/local/lib/python3.10/dist-packages (from sympy==1.13.1->torch>=2.0.0->deoldify) (1.3.0)\r\n",
      "Requirement already satisfied: future in /usr/local/lib/python3.10/dist-packages (from ffmpeg-python->deoldify) (1.0.0)\r\n",
      "Requirement already satisfied: comm>=0.1.3 in /usr/local/lib/python3.10/dist-packages (from ipywidgets->deoldify) (0.2.2)\r\n",
      "Requirement already satisfied: ipython>=6.1.0 in /usr/local/lib/python3.10/dist-packages (from ipywidgets->deoldify) (7.34.0)\r\n",
      "Requirement already satisfied: traitlets>=4.3.1 in /usr/local/lib/python3.10/dist-packages (from ipywidgets->deoldify) (5.7.1)\r\n",
      "Requirement already satisfied: widgetsnbextension~=4.0.12 in /usr/local/lib/python3.10/dist-packages (from ipywidgets->deoldify) (4.0.13)\r\n",
      "Requirement already satisfied: jupyterlab-widgets~=3.0.12 in /usr/local/lib/python3.10/dist-packages (from ipywidgets->deoldify) (3.0.13)\r\n",
      "Requirement already satisfied: tornado>=6.1.0 in /usr/local/lib/python3.10/dist-packages (from jupyterlab->deoldify) (6.3.3)\r\n",
      "Requirement already satisfied: jupyter-core in /usr/local/lib/python3.10/dist-packages (from jupyterlab->deoldify) (5.7.2)\r\n",
      "Requirement already satisfied: jupyterlab-server~=2.19 in /usr/local/lib/python3.10/dist-packages (from jupyterlab->deoldify) (2.27.3)\r\n",
      "Requirement already satisfied: jupyter-server<3,>=1.16.0 in /usr/local/lib/python3.10/dist-packages (from jupyterlab->deoldify) (2.12.5)\r\n",
      "Requirement already satisfied: jupyter-ydoc~=0.2.4 in /usr/local/lib/python3.10/dist-packages (from jupyterlab->deoldify) (0.2.5)\r\n",
      "Requirement already satisfied: jupyter-server-ydoc~=0.8.0 in /usr/local/lib/python3.10/dist-packages (from jupyterlab->deoldify) (0.8.0)\r\n",
      "Requirement already satisfied: nbclassic in /usr/local/lib/python3.10/dist-packages (from jupyterlab->deoldify) (1.1.0)\r\n",
      "Requirement already satisfied: notebook<7 in /usr/local/lib/python3.10/dist-packages (from jupyterlab->deoldify) (6.5.4)\r\n",
      "Requirement already satisfied: tomli in /usr/local/lib/python3.10/dist-packages (from jupyterlab->deoldify) (2.2.1)\r\n",
      "Requirement already satisfied: click!=8.0.0,>=7.1 in /usr/local/lib/python3.10/dist-packages (from wandb->deoldify) (8.1.7)\r\n",
      "Requirement already satisfied: docker-pycreds>=0.4.0 in /usr/local/lib/python3.10/dist-packages (from wandb->deoldify) (0.4.0)\r\n",
      "Requirement already satisfied: gitpython!=3.1.29,>=1.0.0 in /usr/local/lib/python3.10/dist-packages (from wandb->deoldify) (3.1.43)\r\n",
      "Requirement already satisfied: platformdirs in /usr/local/lib/python3.10/dist-packages (from wandb->deoldify) (4.3.6)\r\n",
      "Requirement already satisfied: psutil>=5.0.0 in /usr/local/lib/python3.10/dist-packages (from wandb->deoldify) (5.9.5)\r\n",
      "Requirement already satisfied: pydantic<3,>=2.6 in /usr/local/lib/python3.10/dist-packages (from wandb->deoldify) (2.11.0a2)\r\n",
      "Requirement already satisfied: pyyaml in /usr/local/lib/python3.10/dist-packages (from wandb->deoldify) (6.0.2)\r\n",
      "Requirement already satisfied: requests<3,>=2.0.0 in /usr/local/lib/python3.10/dist-packages (from wandb->deoldify) (2.32.3)\r\n",
      "Requirement already satisfied: sentry-sdk>=2.0.0 in /usr/local/lib/python3.10/dist-packages (from wandb->deoldify) (2.19.2)\r\n",
      "Requirement already satisfied: setproctitle in /usr/local/lib/python3.10/dist-packages (from wandb->deoldify) (1.3.4)\r\n",
      "Requirement already satisfied: setuptools in /usr/local/lib/python3.10/dist-packages (from wandb->deoldify) (75.1.0)\r\n",
      "Requirement already satisfied: six>=1.4.0 in /usr/local/lib/python3.10/dist-packages (from docker-pycreds>=0.4.0->wandb->deoldify) (1.17.0)\r\n",
      "Requirement already satisfied: gitdb<5,>=4.0.1 in /usr/local/lib/python3.10/dist-packages (from gitpython!=3.1.29,>=1.0.0->wandb->deoldify) (4.0.11)\r\n",
      "Requirement already satisfied: jedi>=0.16 in /usr/local/lib/python3.10/dist-packages (from ipython>=6.1.0->ipywidgets->deoldify) (0.19.2)\r\n",
      "Requirement already satisfied: decorator in /usr/local/lib/python3.10/dist-packages (from ipython>=6.1.0->ipywidgets->deoldify) (4.4.2)\r\n",
      "Requirement already satisfied: pickleshare in /usr/local/lib/python3.10/dist-packages (from ipython>=6.1.0->ipywidgets->deoldify) (0.7.5)\r\n",
      "Requirement already satisfied: prompt-toolkit!=3.0.0,!=3.0.1,<3.1.0,>=2.0.0 in /usr/local/lib/python3.10/dist-packages (from ipython>=6.1.0->ipywidgets->deoldify) (3.0.48)\r\n",
      "Requirement already satisfied: pygments in /usr/local/lib/python3.10/dist-packages (from ipython>=6.1.0->ipywidgets->deoldify) (2.19.1)\r\n",
      "Requirement already satisfied: backcall in /usr/local/lib/python3.10/dist-packages (from ipython>=6.1.0->ipywidgets->deoldify) (0.2.0)\r\n",
      "Requirement already satisfied: matplotlib-inline in /usr/local/lib/python3.10/dist-packages (from ipython>=6.1.0->ipywidgets->deoldify) (0.1.7)\r\n",
      "Requirement already satisfied: pexpect>4.3 in /usr/local/lib/python3.10/dist-packages (from ipython>=6.1.0->ipywidgets->deoldify) (4.9.0)\r\n",
      "Requirement already satisfied: MarkupSafe>=2.0 in /usr/local/lib/python3.10/dist-packages (from jinja2->torch>=2.0.0->deoldify) (3.0.2)\r\n",
      "Requirement already satisfied: anyio>=3.1.0 in /usr/local/lib/python3.10/dist-packages (from jupyter-server<3,>=1.16.0->jupyterlab->deoldify) (3.7.1)\r\n",
      "Requirement already satisfied: argon2-cffi in /usr/local/lib/python3.10/dist-packages (from jupyter-server<3,>=1.16.0->jupyterlab->deoldify) (23.1.0)\r\n",
      "Requirement already satisfied: jupyter-client>=7.4.4 in /usr/local/lib/python3.10/dist-packages (from jupyter-server<3,>=1.16.0->jupyterlab->deoldify) (8.6.3)\r\n",
      "Requirement already satisfied: jupyter-events>=0.9.0 in /usr/local/lib/python3.10/dist-packages (from jupyter-server<3,>=1.16.0->jupyterlab->deoldify) (0.12.0)\r\n",
      "Requirement already satisfied: jupyter-server-terminals in /usr/local/lib/python3.10/dist-packages (from jupyter-server<3,>=1.16.0->jupyterlab->deoldify) (0.5.3)\r\n",
      "Requirement already satisfied: nbconvert>=6.4.4 in /usr/local/lib/python3.10/dist-packages (from jupyter-server<3,>=1.16.0->jupyterlab->deoldify) (6.4.5)\r\n",
      "Requirement already satisfied: nbformat>=5.3.0 in /usr/local/lib/python3.10/dist-packages (from jupyter-server<3,>=1.16.0->jupyterlab->deoldify) (5.10.4)\r\n",
      "Requirement already satisfied: overrides in /usr/local/lib/python3.10/dist-packages (from jupyter-server<3,>=1.16.0->jupyterlab->deoldify) (7.7.0)\r\n",
      "Requirement already satisfied: prometheus-client in /usr/local/lib/python3.10/dist-packages (from jupyter-server<3,>=1.16.0->jupyterlab->deoldify) (0.21.1)\r\n",
      "Requirement already satisfied: pyzmq>=24 in /usr/local/lib/python3.10/dist-packages (from jupyter-server<3,>=1.16.0->jupyterlab->deoldify) (24.0.1)\r\n",
      "Requirement already satisfied: send2trash>=1.8.2 in /usr/local/lib/python3.10/dist-packages (from jupyter-server<3,>=1.16.0->jupyterlab->deoldify) (1.8.3)\r\n",
      "Requirement already satisfied: terminado>=0.8.3 in /usr/local/lib/python3.10/dist-packages (from jupyter-server<3,>=1.16.0->jupyterlab->deoldify) (0.18.1)\r\n",
      "Requirement already satisfied: websocket-client in /usr/local/lib/python3.10/dist-packages (from jupyter-server<3,>=1.16.0->jupyterlab->deoldify) (1.8.0)\r\n",
      "Requirement already satisfied: jupyter-server-fileid<1,>=0.6.0 in /usr/local/lib/python3.10/dist-packages (from jupyter-server-ydoc~=0.8.0->jupyterlab->deoldify) (0.9.3)\r\n",
      "Requirement already satisfied: ypy-websocket<0.9.0,>=0.8.2 in /usr/local/lib/python3.10/dist-packages (from jupyter-server-ydoc~=0.8.0->jupyterlab->deoldify) (0.8.4)\r\n",
      "Requirement already satisfied: y-py<0.7.0,>=0.6.0 in /usr/local/lib/python3.10/dist-packages (from jupyter-ydoc~=0.2.4->jupyterlab->deoldify) (0.6.2)\r\n",
      "Requirement already satisfied: babel>=2.10 in /usr/local/lib/python3.10/dist-packages (from jupyterlab-server~=2.19->jupyterlab->deoldify) (2.16.0)\r\n",
      "Requirement already satisfied: json5>=0.9.0 in /usr/local/lib/python3.10/dist-packages (from jupyterlab-server~=2.19->jupyterlab->deoldify) (0.10.0)\r\n",
      "Requirement already satisfied: jsonschema>=4.18.0 in /usr/local/lib/python3.10/dist-packages (from jupyterlab-server~=2.19->jupyterlab->deoldify) (4.23.0)\r\n",
      "Requirement already satisfied: ipython-genutils in /usr/local/lib/python3.10/dist-packages (from notebook<7->jupyterlab->deoldify) (0.2.0)\r\n",
      "Requirement already satisfied: nest-asyncio>=1.5 in /usr/local/lib/python3.10/dist-packages (from notebook<7->jupyterlab->deoldify) (1.6.0)\r\n",
      "Requirement already satisfied: ipykernel in /usr/local/lib/python3.10/dist-packages (from notebook<7->jupyterlab->deoldify) (5.5.6)\r\n",
      "Requirement already satisfied: notebook-shim>=0.2.3 in /usr/local/lib/python3.10/dist-packages (from nbclassic->jupyterlab->deoldify) (0.2.4)\r\n",
      "Requirement already satisfied: mkl_fft in /usr/local/lib/python3.10/dist-packages (from numpy>=1.21.2->opencv-python>=4.2.0.32->deoldify) (1.3.8)\r\n",
      "Requirement already satisfied: mkl_random in /usr/local/lib/python3.10/dist-packages (from numpy>=1.21.2->opencv-python>=4.2.0.32->deoldify) (1.2.4)\r\n",
      "Requirement already satisfied: mkl_umath in /usr/local/lib/python3.10/dist-packages (from numpy>=1.21.2->opencv-python>=4.2.0.32->deoldify) (0.1.1)\r\n",
      "Requirement already satisfied: mkl in /usr/local/lib/python3.10/dist-packages (from numpy>=1.21.2->opencv-python>=4.2.0.32->deoldify) (2025.0.1)\r\n",
      "Requirement already satisfied: tbb4py in /usr/local/lib/python3.10/dist-packages (from numpy>=1.21.2->opencv-python>=4.2.0.32->deoldify) (2022.0.0)\r\n",
      "Requirement already satisfied: mkl-service in /usr/local/lib/python3.10/dist-packages (from numpy>=1.21.2->opencv-python>=4.2.0.32->deoldify) (2.4.1)\r\n",
      "Requirement already satisfied: annotated-types>=0.6.0 in /usr/local/lib/python3.10/dist-packages (from pydantic<3,>=2.6->wandb->deoldify) (0.7.0)\r\n",
      "Requirement already satisfied: pydantic-core==2.29.0 in /usr/local/lib/python3.10/dist-packages (from pydantic<3,>=2.6->wandb->deoldify) (2.29.0)\r\n",
      "Requirement already satisfied: charset-normalizer<4,>=2 in /usr/local/lib/python3.10/dist-packages (from requests<3,>=2.0.0->wandb->deoldify) (3.4.1)\r\n",
      "Requirement already satisfied: idna<4,>=2.5 in /usr/local/lib/python3.10/dist-packages (from requests<3,>=2.0.0->wandb->deoldify) (3.10)\r\n",
      "Requirement already satisfied: urllib3<3,>=1.21.1 in /usr/local/lib/python3.10/dist-packages (from requests<3,>=2.0.0->wandb->deoldify) (2.3.0)\r\n",
      "Requirement already satisfied: certifi>=2017.4.17 in /usr/local/lib/python3.10/dist-packages (from requests<3,>=2.0.0->wandb->deoldify) (2025.1.31)\r\n",
      "Requirement already satisfied: sniffio>=1.1 in /usr/local/lib/python3.10/dist-packages (from anyio>=3.1.0->jupyter-server<3,>=1.16.0->jupyterlab->deoldify) (1.3.1)\r\n",
      "Requirement already satisfied: exceptiongroup in /usr/local/lib/python3.10/dist-packages (from anyio>=3.1.0->jupyter-server<3,>=1.16.0->jupyterlab->deoldify) (1.2.2)\r\n",
      "Requirement already satisfied: smmap<6,>=3.0.1 in /usr/local/lib/python3.10/dist-packages (from gitdb<5,>=4.0.1->gitpython!=3.1.29,>=1.0.0->wandb->deoldify) (5.0.1)\r\n",
      "Requirement already satisfied: parso<0.9.0,>=0.8.4 in /usr/local/lib/python3.10/dist-packages (from jedi>=0.16->ipython>=6.1.0->ipywidgets->deoldify) (0.8.4)\r\n",
      "Requirement already satisfied: attrs>=22.2.0 in /usr/local/lib/python3.10/dist-packages (from jsonschema>=4.18.0->jupyterlab-server~=2.19->jupyterlab->deoldify) (25.1.0)\r\n",
      "Requirement already satisfied: jsonschema-specifications>=2023.03.6 in /usr/local/lib/python3.10/dist-packages (from jsonschema>=4.18.0->jupyterlab-server~=2.19->jupyterlab->deoldify) (2024.10.1)\r\n",
      "Requirement already satisfied: referencing>=0.28.4 in /usr/local/lib/python3.10/dist-packages (from jsonschema>=4.18.0->jupyterlab-server~=2.19->jupyterlab->deoldify) (0.35.1)\r\n",
      "Requirement already satisfied: rpds-py>=0.7.1 in /usr/local/lib/python3.10/dist-packages (from jsonschema>=4.18.0->jupyterlab-server~=2.19->jupyterlab->deoldify) (0.22.3)\r\n",
      "Requirement already satisfied: python-dateutil>=2.8.2 in /usr/local/lib/python3.10/dist-packages (from jupyter-client>=7.4.4->jupyter-server<3,>=1.16.0->jupyterlab->deoldify) (2.9.0.post0)\r\n",
      "Requirement already satisfied: python-json-logger>=2.0.4 in /usr/local/lib/python3.10/dist-packages (from jupyter-events>=0.9.0->jupyter-server<3,>=1.16.0->jupyterlab->deoldify) (3.2.1)\r\n",
      "Requirement already satisfied: rfc3339-validator in /usr/local/lib/python3.10/dist-packages (from jupyter-events>=0.9.0->jupyter-server<3,>=1.16.0->jupyterlab->deoldify) (0.1.4)\r\n",
      "Requirement already satisfied: rfc3986-validator>=0.1.1 in /usr/local/lib/python3.10/dist-packages (from jupyter-events>=0.9.0->jupyter-server<3,>=1.16.0->jupyterlab->deoldify) (0.1.1)\r\n",
      "Requirement already satisfied: mistune<2,>=0.8.1 in /usr/local/lib/python3.10/dist-packages (from nbconvert>=6.4.4->jupyter-server<3,>=1.16.0->jupyterlab->deoldify) (0.8.4)\r\n",
      "Requirement already satisfied: jupyterlab-pygments in /usr/local/lib/python3.10/dist-packages (from nbconvert>=6.4.4->jupyter-server<3,>=1.16.0->jupyterlab->deoldify) (0.3.0)\r\n",
      "Requirement already satisfied: entrypoints>=0.2.2 in /usr/local/lib/python3.10/dist-packages (from nbconvert>=6.4.4->jupyter-server<3,>=1.16.0->jupyterlab->deoldify) (0.4)\r\n",
      "Requirement already satisfied: bleach in /usr/local/lib/python3.10/dist-packages (from nbconvert>=6.4.4->jupyter-server<3,>=1.16.0->jupyterlab->deoldify) (6.2.0)\r\n",
      "Requirement already satisfied: pandocfilters>=1.4.1 in /usr/local/lib/python3.10/dist-packages (from nbconvert>=6.4.4->jupyter-server<3,>=1.16.0->jupyterlab->deoldify) (1.5.1)\r\n",
      "Requirement already satisfied: testpath in /usr/local/lib/python3.10/dist-packages (from nbconvert>=6.4.4->jupyter-server<3,>=1.16.0->jupyterlab->deoldify) (0.6.0)\r\n",
      "Requirement already satisfied: defusedxml in /usr/local/lib/python3.10/dist-packages (from nbconvert>=6.4.4->jupyter-server<3,>=1.16.0->jupyterlab->deoldify) (0.7.1)\r\n",
      "Requirement already satisfied: beautifulsoup4 in /usr/local/lib/python3.10/dist-packages (from nbconvert>=6.4.4->jupyter-server<3,>=1.16.0->jupyterlab->deoldify) (4.12.3)\r\n",
      "Requirement already satisfied: nbclient<0.6.0,>=0.5.0 in /usr/local/lib/python3.10/dist-packages (from nbconvert>=6.4.4->jupyter-server<3,>=1.16.0->jupyterlab->deoldify) (0.5.13)\r\n",
      "Requirement already satisfied: fastjsonschema>=2.15 in /usr/local/lib/python3.10/dist-packages (from nbformat>=5.3.0->jupyter-server<3,>=1.16.0->jupyterlab->deoldify) (2.21.1)\r\n",
      "Requirement already satisfied: ptyprocess>=0.5 in /usr/local/lib/python3.10/dist-packages (from pexpect>4.3->ipython>=6.1.0->ipywidgets->deoldify) (0.7.0)\r\n",
      "Requirement already satisfied: wcwidth in /usr/local/lib/python3.10/dist-packages (from prompt-toolkit!=3.0.0,!=3.0.1,<3.1.0,>=2.0.0->ipython>=6.1.0->ipywidgets->deoldify) (0.2.13)\r\n",
      "Requirement already satisfied: aiofiles<23,>=22.1.0 in /usr/local/lib/python3.10/dist-packages (from ypy-websocket<0.9.0,>=0.8.2->jupyter-server-ydoc~=0.8.0->jupyterlab->deoldify) (22.1.0)\r\n",
      "Requirement already satisfied: aiosqlite<1,>=0.17.0 in /usr/local/lib/python3.10/dist-packages (from ypy-websocket<0.9.0,>=0.8.2->jupyter-server-ydoc~=0.8.0->jupyterlab->deoldify) (0.21.0)\r\n",
      "Requirement already satisfied: argon2-cffi-bindings in /usr/local/lib/python3.10/dist-packages (from argon2-cffi->jupyter-server<3,>=1.16.0->jupyterlab->deoldify) (21.2.0)\r\n",
      "Requirement already satisfied: intel-openmp>=2024 in /usr/local/lib/python3.10/dist-packages (from mkl->numpy>=1.21.2->opencv-python>=4.2.0.32->deoldify) (2024.2.0)\r\n",
      "Requirement already satisfied: tbb==2022.* in /usr/local/lib/python3.10/dist-packages (from mkl->numpy>=1.21.2->opencv-python>=4.2.0.32->deoldify) (2022.0.0)\r\n",
      "Requirement already satisfied: tcmlib==1.* in /usr/local/lib/python3.10/dist-packages (from tbb==2022.*->mkl->numpy>=1.21.2->opencv-python>=4.2.0.32->deoldify) (1.2.0)\r\n",
      "Requirement already satisfied: intel-cmplr-lib-rt in /usr/local/lib/python3.10/dist-packages (from mkl_umath->numpy>=1.21.2->opencv-python>=4.2.0.32->deoldify) (2024.2.0)\r\n",
      "Requirement already satisfied: intel-cmplr-lib-ur==2024.2.0 in /usr/local/lib/python3.10/dist-packages (from intel-openmp>=2024->mkl->numpy>=1.21.2->opencv-python>=4.2.0.32->deoldify) (2024.2.0)\r\n",
      "Requirement already satisfied: fqdn in /usr/local/lib/python3.10/dist-packages (from jsonschema[format-nongpl]>=4.18.0->jupyter-events>=0.9.0->jupyter-server<3,>=1.16.0->jupyterlab->deoldify) (1.5.1)\r\n",
      "Requirement already satisfied: isoduration in /usr/local/lib/python3.10/dist-packages (from jsonschema[format-nongpl]>=4.18.0->jupyter-events>=0.9.0->jupyter-server<3,>=1.16.0->jupyterlab->deoldify) (20.11.0)\r\n",
      "Requirement already satisfied: jsonpointer>1.13 in /usr/local/lib/python3.10/dist-packages (from jsonschema[format-nongpl]>=4.18.0->jupyter-events>=0.9.0->jupyter-server<3,>=1.16.0->jupyterlab->deoldify) (3.0.0)\r\n",
      "Requirement already satisfied: uri-template in /usr/local/lib/python3.10/dist-packages (from jsonschema[format-nongpl]>=4.18.0->jupyter-events>=0.9.0->jupyter-server<3,>=1.16.0->jupyterlab->deoldify) (1.3.0)\r\n",
      "Requirement already satisfied: webcolors>=24.6.0 in /usr/local/lib/python3.10/dist-packages (from jsonschema[format-nongpl]>=4.18.0->jupyter-events>=0.9.0->jupyter-server<3,>=1.16.0->jupyterlab->deoldify) (24.11.1)\r\n",
      "Requirement already satisfied: cffi>=1.0.1 in /usr/local/lib/python3.10/dist-packages (from argon2-cffi-bindings->argon2-cffi->jupyter-server<3,>=1.16.0->jupyterlab->deoldify) (1.17.1)\r\n",
      "Requirement already satisfied: soupsieve>1.2 in /usr/local/lib/python3.10/dist-packages (from beautifulsoup4->nbconvert>=6.4.4->jupyter-server<3,>=1.16.0->jupyterlab->deoldify) (2.6)\r\n",
      "Requirement already satisfied: webencodings in /usr/local/lib/python3.10/dist-packages (from bleach->nbconvert>=6.4.4->jupyter-server<3,>=1.16.0->jupyterlab->deoldify) (0.5.1)\r\n",
      "Requirement already satisfied: pycparser in /usr/local/lib/python3.10/dist-packages (from cffi>=1.0.1->argon2-cffi-bindings->argon2-cffi->jupyter-server<3,>=1.16.0->jupyterlab->deoldify) (2.22)\r\n",
      "Requirement already satisfied: arrow>=0.15.0 in /usr/local/lib/python3.10/dist-packages (from isoduration->jsonschema[format-nongpl]>=4.18.0->jupyter-events>=0.9.0->jupyter-server<3,>=1.16.0->jupyterlab->deoldify) (1.3.0)\r\n",
      "Requirement already satisfied: types-python-dateutil>=2.8.10 in /usr/local/lib/python3.10/dist-packages (from arrow>=0.15.0->isoduration->jsonschema[format-nongpl]>=4.18.0->jupyter-events>=0.9.0->jupyter-server<3,>=1.16.0->jupyterlab->deoldify) (2.9.0.20241206)\r\n",
      "Downloading deoldify-0.0.1-py3-none-any.whl (241 kB)\r\n",
      "\u001b[2K   \u001b[90m━━━━━━━━━━━━━━━━━━━━━━━━━━━━━━━━━━━━━━━━\u001b[0m \u001b[32m241.8/241.8 kB\u001b[0m \u001b[31m9.5 MB/s\u001b[0m eta \u001b[36m0:00:00\u001b[0m\r\n",
      "\u001b[?25hInstalling collected packages: deoldify\r\n",
      "Successfully installed deoldify-0.0.1\r\n"
     ]
    }
   ],
   "source": [
    "# Step 1: Install Required Packages and Clone DeOldify\n",
    "!pip install ffmpeg\n",
    "!git clone https://github.com/jantic/DeOldify.git /kaggle/working/DeOldify\n",
    "%cd /kaggle/working/DeOldify\n",
    "!pip install -r requirements-colab.txt\n",
    "!pip install deoldify"
   ]
  },
  {
   "cell_type": "code",
   "execution_count": 2,
   "id": "6a48fc34",
   "metadata": {
    "_cell_guid": "baea5037-36c6-4e29-be8c-a1ea808679c1",
    "_uuid": "31a86a9e-9378-4765-aba5-1a2ce18c7759",
    "collapsed": false,
    "execution": {
     "iopub.execute_input": "2025-04-04T16:15:20.127227Z",
     "iopub.status.busy": "2025-04-04T16:15:20.126957Z",
     "iopub.status.idle": "2025-04-04T16:18:10.799288Z",
     "shell.execute_reply": "2025-04-04T16:18:10.798251Z"
    },
    "jupyter": {
     "outputs_hidden": false
    },
    "papermill": {
     "duration": 170.680249,
     "end_time": "2025-04-04T16:18:10.800578",
     "exception": false,
     "start_time": "2025-04-04T16:15:20.120329",
     "status": "completed"
    },
    "tags": []
   },
   "outputs": [
    {
     "name": "stdout",
     "output_type": "stream",
     "text": [
      "mkdir: cannot create directory ‘models’: File exists\r\n",
      "--2025-04-04 16:15:20--  https://data.deepai.org/deoldify/ColorizeVideo_gen.pth\r\n",
      "Resolving data.deepai.org (data.deepai.org)... 143.244.50.83, 2400:52e0:1a01::993:1\r\n",
      "Connecting to data.deepai.org (data.deepai.org)|143.244.50.83|:443... connected.\r\n",
      "HTTP request sent, awaiting response... 200 OK\r\n",
      "Length: 874066230 (834M) [application/octet-stream]\r\n",
      "Saving to: ‘./models/ColorizeVideo_gen.pth’\r\n",
      "\r\n",
      "./models/ColorizeVi 100%[===================>] 833.57M  4.92MB/s    in 2m 50s  \r\n",
      "\r\n",
      "2025-04-04 16:18:10 (4.90 MB/s) - ‘./models/ColorizeVideo_gen.pth’ saved [874066230/874066230]\r\n",
      "\r\n"
     ]
    }
   ],
   "source": [
    "# Step 2: Download Pretrained Weights\n",
    "!mkdir 'models'\n",
    "!wget https://data.deepai.org/deoldify/ColorizeVideo_gen.pth -O ./models/ColorizeVideo_gen.pth"
   ]
  },
  {
   "cell_type": "code",
   "execution_count": 3,
   "id": "041857da",
   "metadata": {
    "_cell_guid": "623eee21-6b8a-47be-a951-495640666eb2",
    "_uuid": "f5463990-897c-4121-bc65-4a43d7d125d1",
    "collapsed": false,
    "execution": {
     "iopub.execute_input": "2025-04-04T16:18:10.881634Z",
     "iopub.status.busy": "2025-04-04T16:18:10.881358Z",
     "iopub.status.idle": "2025-04-04T16:18:22.254583Z",
     "shell.execute_reply": "2025-04-04T16:18:22.253573Z"
    },
    "jupyter": {
     "outputs_hidden": false
    },
    "papermill": {
     "duration": 11.414927,
     "end_time": "2025-04-04T16:18:22.255931",
     "exception": false,
     "start_time": "2025-04-04T16:18:10.841004",
     "status": "completed"
    },
    "tags": []
   },
   "outputs": [
    {
     "name": "stdout",
     "output_type": "stream",
     "text": [
      "NumExpr defaulting to 4 threads.\n",
      "GPU is available and enabled.\n"
     ]
    }
   ],
   "source": [
    "# Step 3: Set Up DeOldify Environment\n",
    "from deoldify import device\n",
    "from deoldify.device_id import DeviceId\n",
    "\n",
    "# Enable GPU\n",
    "device.set(device=DeviceId.GPU0)\n",
    "\n",
    "# Imports\n",
    "from deoldify.visualize import *\n",
    "import torch\n",
    "\n",
    "# Check GPU\n",
    "if not torch.cuda.is_available():\n",
    "    print('GPU not available.')\n",
    "else:\n",
    "    print('GPU is available and enabled.')"
   ]
  },
  {
   "cell_type": "code",
   "execution_count": 4,
   "id": "e09e4f21",
   "metadata": {
    "_cell_guid": "9bda050d-edf3-48ff-8727-4666b3dd6dc5",
    "_uuid": "56845cd0-72f4-4a4d-ae3d-544bd3017c33",
    "collapsed": false,
    "execution": {
     "iopub.execute_input": "2025-04-04T16:18:22.336337Z",
     "iopub.status.busy": "2025-04-04T16:18:22.335934Z",
     "iopub.status.idle": "2025-04-04T16:18:36.168065Z",
     "shell.execute_reply": "2025-04-04T16:18:36.167056Z"
    },
    "jupyter": {
     "outputs_hidden": false
    },
    "papermill": {
     "duration": 13.874496,
     "end_time": "2025-04-04T16:18:36.170493",
     "exception": false,
     "start_time": "2025-04-04T16:18:22.295997",
     "status": "completed"
    },
    "tags": []
   },
   "outputs": [
    {
     "name": "stderr",
     "output_type": "stream",
     "text": [
      "/kaggle/working/DeOldify/fastai/data_block.py:451: UserWarning: Your training set is empty. If this is by design, pass `ignore_empty=True` to remove this warning.\n",
      "  warn(\"Your training set is empty. If this is by design, pass `ignore_empty=True` to remove this warning.\")\n",
      "/kaggle/working/DeOldify/fastai/data_block.py:453: UserWarning: Your validation set is empty. If this is by design, use `split_none()`\n",
      "                 or pass `ignore_empty=True` when labelling to remove this warning.\n",
      "  warn(\"\"\"Your validation set is empty. If this is by design, use `split_none()`\n",
      "/usr/local/lib/python3.10/dist-packages/torch/utils/data/dataloader.py:617: UserWarning: This DataLoader will create 8 worker processes in total. Our suggested max number of worker in current system is 4, which is smaller than what this DataLoader is going to create. Please be aware that excessive worker creation might get DataLoader running slow or even freeze, lower the worker number to avoid potential slowness/freeze if necessary.\n",
      "  warnings.warn(\n",
      "/usr/local/lib/python3.10/dist-packages/torchvision/models/_utils.py:208: UserWarning: The parameter 'pretrained' is deprecated since 0.13 and may be removed in the future, please use 'weights' instead.\n",
      "  warnings.warn(\n",
      "/usr/local/lib/python3.10/dist-packages/torchvision/models/_utils.py:223: UserWarning: Arguments other than a weight enum or `None` for 'weights' are deprecated since 0.13 and may be removed in the future. The current behavior is equivalent to passing `weights=ResNet101_Weights.IMAGENET1K_V1`. You can also use `weights=ResNet101_Weights.DEFAULT` to get the most up-to-date weights.\n",
      "  warnings.warn(msg)\n",
      "Downloading: \"https://download.pytorch.org/models/resnet101-63fe2227.pth\" to /root/.cache/torch/hub/checkpoints/resnet101-63fe2227.pth\n",
      "100%|██████████| 171M/171M [00:00<00:00, 231MB/s]\n",
      "/usr/local/lib/python3.10/dist-packages/torch/nn/utils/weight_norm.py:143: FutureWarning: `torch.nn.utils.weight_norm` is deprecated in favor of `torch.nn.utils.parametrizations.weight_norm`.\n",
      "  WeightNorm.apply(module, name, dim)\n",
      "/kaggle/working/DeOldify/fastai/basic_train.py:322: FutureWarning: You are using `torch.load` with `weights_only=False` (the current default value), which uses the default pickle module implicitly. It is possible to construct malicious pickle data which will execute arbitrary code during unpickling (See https://github.com/pytorch/pytorch/blob/main/SECURITY.md#untrusted-models for more details). In a future release, the default value for `weights_only` will be flipped to `True`. This limits the functions that could be executed during unpickling. Arbitrary objects will no longer be allowed to be loaded via this mode unless they are explicitly allowlisted by the user via `torch.serialization.add_safe_globals`. We recommend you start setting `weights_only=True` for any use case where you don't have full control of the loaded file. Please open an issue on GitHub for any issues related to this experimental feature.\n",
      "  state = torch.load(tmp_file)\n",
      "/kaggle/working/DeOldify/fastai/basic_train.py:271: FutureWarning: You are using `torch.load` with `weights_only=False` (the current default value), which uses the default pickle module implicitly. It is possible to construct malicious pickle data which will execute arbitrary code during unpickling (See https://github.com/pytorch/pytorch/blob/main/SECURITY.md#untrusted-models for more details). In a future release, the default value for `weights_only` will be flipped to `True`. This limits the functions that could be executed during unpickling. Arbitrary objects will no longer be allowed to be loaded via this mode unless they are explicitly allowlisted by the user via `torch.serialization.add_safe_globals`. We recommend you start setting `weights_only=True` for any use case where you don't have full control of the loaded file. Please open an issue on GitHub for any issues related to this experimental feature.\n",
      "  state = torch.load(source, map_location=device)\n"
     ]
    }
   ],
   "source": [
    "# Step 4: Initialize the Colorizer\n",
    "colorizer = get_video_colorizer()"
   ]
  },
  {
   "cell_type": "code",
   "execution_count": 5,
   "id": "a63ef83c",
   "metadata": {
    "_cell_guid": "8a9951ed-1299-4127-9c92-858beb15d0d2",
    "_uuid": "7898f01f-96a2-4303-b40d-e2a61fa50fac",
    "collapsed": false,
    "execution": {
     "iopub.execute_input": "2025-04-04T16:18:36.285097Z",
     "iopub.status.busy": "2025-04-04T16:18:36.284782Z",
     "iopub.status.idle": "2025-04-04T16:18:36.288049Z",
     "shell.execute_reply": "2025-04-04T16:18:36.287249Z"
    },
    "jupyter": {
     "outputs_hidden": false
    },
    "papermill": {
     "duration": 0.049584,
     "end_time": "2025-04-04T16:18:36.289403",
     "exception": false,
     "start_time": "2025-04-04T16:18:36.239819",
     "status": "completed"
    },
    "tags": []
   },
   "outputs": [],
   "source": [
    "# Step 5: Set Your Input Video Path\n",
    "source_path = '/kaggle/input/video-file-22021989/Avseq02 - Copy.mp4'"
   ]
  },
  {
   "cell_type": "code",
   "execution_count": 6,
   "id": "7a793810",
   "metadata": {
    "_cell_guid": "f1ed5857-3270-435b-b28e-901bf6f7170a",
    "_uuid": "9524fb32-66f1-42c1-9c71-8e2b653b36d4",
    "collapsed": false,
    "execution": {
     "iopub.execute_input": "2025-04-04T16:18:36.370716Z",
     "iopub.status.busy": "2025-04-04T16:18:36.370501Z",
     "iopub.status.idle": "2025-04-04T21:34:41.604082Z",
     "shell.execute_reply": "2025-04-04T21:34:41.603217Z"
    },
    "jupyter": {
     "outputs_hidden": false
    },
    "papermill": {
     "duration": 18965.319835,
     "end_time": "2025-04-04T21:34:41.649869",
     "exception": false,
     "start_time": "2025-04-04T16:18:36.330034",
     "status": "completed"
    },
    "tags": []
   },
   "outputs": [
    {
     "name": "stderr",
     "output_type": "stream",
     "text": [
      "🎨 Colorizing video...: 100%|██████████| 90/90 [01:30<00:00,  1.00s/s]\n"
     ]
    },
    {
     "data": {
      "text/html": [
       "\n",
       "<style>\n",
       "    /* Turns off some styling */\n",
       "    progress {\n",
       "        /* gets rid of default border in Firefox and Opera. */\n",
       "        border: none;\n",
       "        /* Needs to be in here for Safari polyfill so background images work as expected. */\n",
       "        background-size: auto;\n",
       "    }\n",
       "    progress:not([value]), progress:not([value])::-webkit-progress-bar {\n",
       "        background: repeating-linear-gradient(45deg, #7e7e7e, #7e7e7e 10px, #5c5c5c 10px, #5c5c5c 20px);\n",
       "    }\n",
       "    .progress-bar-interrupted, .progress-bar-interrupted::-webkit-progress-bar {\n",
       "        background: #F44336;\n",
       "    }\n",
       "</style>\n"
      ],
      "text/plain": [
       "<IPython.core.display.HTML object>"
      ]
     },
     "metadata": {},
     "output_type": "display_data"
    },
    {
     "data": {
      "text/html": [
       "\n",
       "    <div>\n",
       "      <progress value='111951' class='' max='111951' style='width:300px; height:20px; vertical-align: middle;'></progress>\n",
       "      100.00% [111951/111951 5:02:52&lt;00:00]\n",
       "    </div>\n",
       "    "
      ],
      "text/plain": [
       "<IPython.core.display.HTML object>"
      ]
     },
     "metadata": {},
     "output_type": "display_data"
    },
    {
     "name": "stdout",
     "output_type": "stream",
     "text": [
      "Video created here: video/result/Avseq02 - Copy.mp4\n",
      "✅ Colored video saved to: /kaggle/working/Avseq02 - Copy.mp4\n"
     ]
    }
   ],
   "source": [
    "from tqdm import tqdm\n",
    "import threading\n",
    "import time\n",
    "\n",
    "# Step 7: Run the Colorization Process with Simulated Progress Bar\n",
    "def show_progress_bar(duration_est=90):  # Estimate in seconds\n",
    "    for _ in tqdm(range(duration_est), desc=\"🎨 Colorizing video...\", unit=\"s\"):\n",
    "        time.sleep(1)\n",
    "\n",
    "# Start progress bar in separate thread\n",
    "tqdm_thread = threading.Thread(target=show_progress_bar)\n",
    "tqdm_thread.start()\n",
    "\n",
    "# Run the actual colorization (blocking call)\n",
    "rendered_path = colorizer.colorize_from_file_name(\n",
    "    file_name=source_path,\n",
    "    render_factor=21,\n",
    "    watermarked=False\n",
    ")\n",
    "\n",
    "# Wait for progress bar to finish\n",
    "tqdm_thread.join()\n",
    "\n",
    "# Move output to working directory\n",
    "import shutil\n",
    "import os\n",
    "\n",
    "output_file = os.path.join('/kaggle/working/', os.path.basename(rendered_path))\n",
    "shutil.move(rendered_path, output_file)\n",
    "\n",
    "print(f\"✅ Colored video saved to: {output_file}\")\n"
   ]
  }
 ],
 "metadata": {
  "kaggle": {
   "accelerator": "nvidiaTeslaT4",
   "dataSources": [
    {
     "datasetId": 6797059,
     "sourceId": 10931298,
     "sourceType": "datasetVersion"
    }
   ],
   "isGpuEnabled": true,
   "isInternetEnabled": true,
   "language": "python",
   "sourceType": "notebook"
  },
  "kernelspec": {
   "display_name": "Python 3",
   "language": "python",
   "name": "python3"
  },
  "language_info": {
   "codemirror_mode": {
    "name": "ipython",
    "version": 3
   },
   "file_extension": ".py",
   "mimetype": "text/x-python",
   "name": "python",
   "nbconvert_exporter": "python",
   "pygments_lexer": "ipython3",
   "version": "3.10.12"
  },
  "papermill": {
   "default_parameters": {},
   "duration": 19192.924448,
   "end_time": "2025-04-04T21:34:44.697968",
   "environment_variables": {},
   "exception": null,
   "input_path": "__notebook__.ipynb",
   "output_path": "__notebook__.ipynb",
   "parameters": {},
   "start_time": "2025-04-04T16:14:51.773520",
   "version": "2.6.0"
  }
 },
 "nbformat": 4,
 "nbformat_minor": 5
}
